{
 "cells": [
  {
   "cell_type": "markdown",
   "metadata": {},
   "source": [
    "##### Regular expression"
   ]
  },
  {
   "cell_type": "markdown",
   "metadata": {},
   "source": [
    "For practice \n",
    "https://www.regexpal.com"
   ]
  },
  {
   "cell_type": "code",
   "execution_count": 3,
   "metadata": {},
   "outputs": [],
   "source": [
    "import re"
   ]
  },
  {
   "cell_type": "code",
   "execution_count": 20,
   "metadata": {},
   "outputs": [
    {
     "name": "stdout",
     "output_type": "stream",
     "text": [
      "No match\n"
     ]
    }
   ],
   "source": [
    "#Check if the string starts with \"Maaz\" and ends with \"Mughal\":\n",
    "A = \"(Maaz Amjad ( Mughal())) )\"\n",
    "B = re.search(\"^Maaz.*()\",A)\n",
    "if (B):\n",
    "    print(\"YES! We have a match!\")\n",
    "else:\n",
    "    print(\"No match\")"
   ]
  },
  {
   "cell_type": "code",
   "execution_count": 21,
   "metadata": {},
   "outputs": [
    {
     "name": "stdout",
     "output_type": "stream",
     "text": [
      "YES! We have a match!\n"
     ]
    }
   ],
   "source": [
    "#Check if the string starts with \"The\" and ends with \"Spain\":\n",
    "\n",
    "txt = \"The rain in Spain\"\n",
    "x = re.search(\"^The.*Spain$\", txt)\n",
    "\n",
    "if (x):\n",
    "  print(\"YES! We have a match!\")\n",
    "else:\n",
    "  print(\"No match\")"
   ]
  },
  {
   "cell_type": "code",
   "execution_count": 29,
   "metadata": {},
   "outputs": [
    {
     "data": {
      "text/plain": [
       "\"date='2/xc2/xb2',time='/case/test.png'\""
      ]
     },
     "execution_count": 29,
     "metadata": {},
     "output_type": "execute_result"
    }
   ],
   "source": [
    "# If I want to find anything in the text without regular expression\n",
    "s =u'abcde(date=\\'2/xc2/xb2\\',time=\\'/case/test.png\\')'\n",
    "\n",
    "s[s.find(\"(\")+1:s.find(\")\")]"
   ]
  },
  {
   "cell_type": "raw",
   "metadata": {},
   "source": [
    "Character\tDescription\tExample\tTry it\n",
    "\n",
    "[^a-z|0-9] -  It means everything except alphabets and numbers\n",
    "[^A-Z] - it means not capital letters\n",
    "^[a-z]- It means show only first letter of the string whatever it is from a-z\n",
    "^[A-z]- It means show only first letter of the string whatever it is from a-z\n",
    "[^Aa] - it means neither capital A not small a\n",
    "[()] - It will show only brackets\n",
    "[A-Za-z] - it will match all alphabets\n",
    "[ !] - it will matches spaces in the text\n",
    "\n",
    "[]\tA set of characters\t\"[a-m]\"\t\n",
    "\\\tSignals a special sequence (can also be used to escape special characters)\t\"\\d\"\t\n",
    ".\tAny character (except newline character)\t\"he..o\"\t\n",
    "^\tStarts with\t\"^hello\"\t\n",
    "$\tEnds with\t\"world$\"\t\n",
    "*\tZero or more occurrences\t\"aix*\" -  see example below\t\n",
    "+\tOne or more occurrences\t\"aix+\"\t\n",
    "{}\tExactly the specified number of occurrences\t\"al{2}\"\t\n",
    "|\tEither or\t\"falls|stays\"\t\n",
    "()\tCapture and group\n",
    "?  match with or without previous word -  see example down"
   ]
  },
  {
   "cell_type": "code",
   "execution_count": 54,
   "metadata": {},
   "outputs": [
    {
     "data": {
      "text/plain": [
       "'djrfejrvjevhnvmednjv ) wmnfjcn( )'"
      ]
     },
     "execution_count": 54,
     "metadata": {},
     "output_type": "execute_result"
    }
   ],
   "source": [
    "w = \"djrfejrvjevhnvmednjv ) wmnfjcn( )\"\n",
    "w[w.find(\"^[a-z]\")+1:s.find(\")\")]"
   ]
  },
  {
   "cell_type": "code",
   "execution_count": 56,
   "metadata": {},
   "outputs": [
    {
     "data": {
      "text/plain": [
       "'djrfejrvjevhnvmednjv ) wmnfjcn( '"
      ]
     },
     "execution_count": 56,
     "metadata": {},
     "output_type": "execute_result"
    }
   ],
   "source": [
    "w[0:-1]"
   ]
  },
  {
   "cell_type": "code",
   "execution_count": 63,
   "metadata": {},
   "outputs": [
    {
     "data": {
      "text/plain": [
       "\"date='2/xc2/xb2',time='/case/test.png'\""
      ]
     },
     "execution_count": 63,
     "metadata": {},
     "output_type": "execute_result"
    }
   ],
   "source": [
    "t =u'abcde(date=\\'2/xc2/xb2\\',time=\\'/case/test.png\\')'\n",
    "\n",
    "re.search(r'\\((.*?)\\)',t).group(1)"
   ]
  },
  {
   "cell_type": "code",
   "execution_count": 65,
   "metadata": {},
   "outputs": [
    {
     "data": {
      "text/plain": [
       "[\"(date='2/xc2/xb2',time='/case/test.png')\"]"
      ]
     },
     "execution_count": 65,
     "metadata": {},
     "output_type": "execute_result"
    }
   ],
   "source": [
    "#If you want to find all occurences:\n",
    "re.findall('\\(.*?\\)',t)"
   ]
  },
  {
   "cell_type": "code",
   "execution_count": 60,
   "metadata": {},
   "outputs": [
    {
     "data": {
      "text/plain": [
       "'djrfejrvjevhnvmednjv ) wmnfjcn( '"
      ]
     },
     "execution_count": 60,
     "metadata": {},
     "output_type": "execute_result"
    }
   ],
   "source": [
    "w = \"djrfejrvjevhnvmednjv ) wmnfjcn( )\"\n",
    "w[w.find(\"^[a-z](\")+1:s.find(\"()\")]"
   ]
  },
  {
   "cell_type": "code",
   "execution_count": 71,
   "metadata": {},
   "outputs": [],
   "source": [
    "R = \"I qwt to home the and Their told me not them. This is why it theft. Tqthe and more importantthement\""
   ]
  },
  {
   "cell_type": "code",
   "execution_count": 73,
   "metadata": {},
   "outputs": [
    {
     "data": {
      "text/plain": [
       "['the ', 'the ']"
      ]
     },
     "execution_count": 73,
     "metadata": {},
     "output_type": "execute_result"
    }
   ],
   "source": [
    "re.findall(\"[Tt]he[^a-z]\",R)"
   ]
  },
  {
   "cell_type": "code",
   "execution_count": 77,
   "metadata": {},
   "outputs": [
    {
     "data": {
      "text/plain": [
       "['Color ', ' Colour']"
      ]
     },
     "execution_count": 77,
     "metadata": {},
     "output_type": "execute_result"
    }
   ],
   "source": [
    "U = \"Color and Colour are the same names.\"\n",
    "re.findall('Color | Colou?r', U)"
   ]
  },
  {
   "cell_type": "code",
   "execution_count": 81,
   "metadata": {},
   "outputs": [
    {
     "data": {
      "text/plain": [
       "['Colour', ' Colour']"
      ]
     },
     "execution_count": 81,
     "metadata": {},
     "output_type": "execute_result"
    }
   ],
   "source": [
    "# Now set the same spellings to both words\n",
    "U = \"Color and Colour are the same names.\"\n",
    "p = re.findall('Color | Colou?r', U)\n",
    "p[0] = 'Colour'\n",
    "p"
   ]
  },
  {
   "cell_type": "code",
   "execution_count": 90,
   "metadata": {},
   "outputs": [
    {
     "data": {
      "text/plain": [
       "['hello', 'helloo', 'helloo', 'hell']"
      ]
     },
     "execution_count": 90,
     "metadata": {},
     "output_type": "execute_result"
    }
   ],
   "source": [
    "Q = 'hello and helloo. Both are not same helloo,hell'\n",
    "v = re.findall('hello*',Q)\n",
    "v"
   ]
  },
  {
   "cell_type": "code",
   "execution_count": 94,
   "metadata": {},
   "outputs": [
    {
     "data": {
      "text/plain": [
       "['begin', 'began', 'begun']"
      ]
     },
     "execution_count": 94,
     "metadata": {},
     "output_type": "execute_result"
    }
   ],
   "source": [
    "# It will tell you what is the word used in that place (so put . there)\n",
    "L = (\"I begin to write. He began to write. She begun to do so.\")\n",
    "s = re.findall('beg.n',L)\n",
    "s"
   ]
  },
  {
   "cell_type": "raw",
   "metadata": {},
   "source": [
    "Question: Enter a regexp that matches all the items in the first column (positive examples) but none of those in the second (negative examples). When you press \"submit\", you will see what matched.\n",
    "\n",
    "pit               pt   \n",
    "spot              Pot\n",
    "spate             peat\n",
    "slap two          part\n",
    "respite   "
   ]
  },
  {
   "cell_type": "code",
   "execution_count": 99,
   "metadata": {},
   "outputs": [],
   "source": [
    "N = \"\"\" pit               pt   \n",
    "        spot              Pot\n",
    "        spate             peat\n",
    "        slap two          part\n",
    "        respite \"\"\""
   ]
  },
  {
   "cell_type": "code",
   "execution_count": 110,
   "metadata": {},
   "outputs": [
    {
     "data": {
      "text/plain": [
       "[' pit  ',\n",
       " '        spot  ',\n",
       " '        spate ',\n",
       " '        slap two',\n",
       " '        respite ']"
      ]
     },
     "execution_count": 110,
     "metadata": {},
     "output_type": "execute_result"
    }
   ],
   "source": [
    "g = re.findall('.*p.t..',N)\n",
    "g"
   ]
  },
  {
   "cell_type": "code",
   "execution_count": 155,
   "metadata": {},
   "outputs": [
    {
     "data": {
      "text/plain": [
       "[' pt ', 'pot ', ' peat', ' part']"
      ]
     },
     "execution_count": 155,
     "metadata": {},
     "output_type": "execute_result"
    }
   ],
   "source": [
    "# Now lets show only second column\n",
    "g = re.findall('pot | pt | p..t',N)\n",
    "g"
   ]
  },
  {
   "cell_type": "raw",
   "metadata": {},
   "source": [
    "Question 2: Enter a regexp that matches all the items in the first column (positive examples) but none of those in the second (negative examples). When you press \"submit\", you will see what matched.\n",
    "    \n",
    "Positive       Negative\n",
    "rap them       aleht\n",
    "tapeth         happy them\n",
    "apth           tarpth\n",
    "wrap/try       Apt\n",
    "sap tray       peth\n",
    "87ap9th        tarreth\n",
    "apothecary     ddapdg\n",
    "               apples\n",
    "               shape the"
   ]
  },
  {
   "cell_type": "code",
   "execution_count": 170,
   "metadata": {},
   "outputs": [],
   "source": [
    "kl =\"\"\"\n",
    "    Positive       Negative\n",
    "    rap them       aleht\n",
    "    tapeth         happy them\n",
    "    apth           tarpth\n",
    "    wrap/try       Apt\n",
    "    sap tray       peth\n",
    "    87ap9th        tarreth\n",
    "    apothecary     ddapdg\n",
    "                   apples\n",
    "                   shape the \"\"\""
   ]
  },
  {
   "cell_type": "code",
   "execution_count": 179,
   "metadata": {},
   "outputs": [
    {
     "data": {
      "text/plain": [
       "['p t', 'pet', 'pt', 'pt', 'p/t', 'pt', 'p t', 'pet', 'p9t', 'pot']"
      ]
     },
     "execution_count": 179,
     "metadata": {},
     "output_type": "execute_result"
    }
   ],
   "source": [
    "ll = re.findall(\"p.?t\", kl)\n",
    "ll"
   ]
  },
  {
   "cell_type": "raw",
   "metadata": {},
   "source": [
    "Exercise 3\n",
    "Enter a regexp that matches all the items in the first column (positive examples) but none of those in the second (negative examples). When you press \"submit\", you\n",
    "will see what matched.\n",
    "Regexp:\n",
    "Positive              Negative\n",
    "affgfking             fgok\n",
    "rafgkahe              a fgk\n",
    "bafghk                affgm\n",
    "baffgkit              afffhk\n",
    "affgfking             fgok\n",
    "rafgkahe              afg.K\n",
    "bafghk                aff gm\n",
    "baffg kit             afffhgk\n"
   ]
  },
  {
   "cell_type": "raw",
   "metadata": {},
   "source": [
    "Exercise 4: Finding sentence breaks\n",
    "Finding where one sentence ends and another begins is trickier than might be imagined. Enter a regexp that matches all the items in the first column (positive\n",
    "examples) but none of those in the second (negative examples). When you press \"submit\", you will see what matched.\n",
    "Regexp:\n",
    "Positive                           Negative\n",
    "assumes word senses. Within    in the U.S.A., people often\n",
    "does the clustering. In the    John?\", he often thought, but\n",
    "but when? It was hard to tell  weighed 17.5 grams\n",
    "he arrive.\" After she had      well ... they'd better not\n",
    "mess! He did not let it        A.I. has long been a very\n",
    "it wasn't hers!' She replied   like that\", he thought\n",
    "always thought so.) Then       but W. G. Grace never had much"
   ]
  },
  {
   "cell_type": "markdown",
   "metadata": {},
   "source": [
    "https://www.w3resource.com/python-exercises/re/#EDITOR"
   ]
  },
  {
   "cell_type": "markdown",
   "metadata": {},
   "source": [
    "1. Write a Python program to check that a string contains only a certain set of characters (in this case a-z, A-Z and 0-9)"
   ]
  },
  {
   "cell_type": "code",
   "execution_count": 184,
   "metadata": {},
   "outputs": [],
   "source": [
    "import re"
   ]
  },
  {
   "cell_type": "code",
   "execution_count": 191,
   "metadata": {},
   "outputs": [],
   "source": [
    "#Solution1: \n",
    "def string_allowed(string):\n",
    "    value = re.compile(r'[A-Za-b0-9.]')\n",
    "    read = value.search(string)\n",
    "    return not bool(string)"
   ]
  },
  {
   "cell_type": "code",
   "execution_count": 192,
   "metadata": {},
   "outputs": [
    {
     "name": "stdout",
     "output_type": "stream",
     "text": [
      "True\n"
     ]
    }
   ],
   "source": [
    "print(string_allowed(\"*&%@#!}{\"))"
   ]
  },
  {
   "cell_type": "markdown",
   "metadata": {},
   "source": [
    "2. Write a Python program that matches a string that has an a followed by zero or more b's."
   ]
  },
  {
   "cell_type": "code",
   "execution_count": 235,
   "metadata": {},
   "outputs": [],
   "source": [
    "#Solution2:\n",
    "def matches(text):\n",
    "    piece = 'ab*?'\n",
    "    if re.search(piece,text):\n",
    "        return (\"Match found\")\n",
    "    else:\n",
    "        return (\"Match is not found\")"
   ]
  },
  {
   "cell_type": "code",
   "execution_count": 236,
   "metadata": {},
   "outputs": [
    {
     "data": {
      "text/plain": [
       "'Match found'"
      ]
     },
     "execution_count": 236,
     "metadata": {},
     "output_type": "execute_result"
    }
   ],
   "source": [
    "matches('abbbbbbc')"
   ]
  },
  {
   "cell_type": "code",
   "execution_count": 205,
   "metadata": {},
   "outputs": [
    {
     "data": {
      "text/plain": [
       "'Match found'"
      ]
     },
     "execution_count": 205,
     "metadata": {},
     "output_type": "execute_result"
    }
   ],
   "source": [
    "matches('xyare')"
   ]
  },
  {
   "cell_type": "code",
   "execution_count": 206,
   "metadata": {},
   "outputs": [
    {
     "data": {
      "text/plain": [
       "'Match is not found'"
      ]
     },
     "execution_count": 206,
     "metadata": {},
     "output_type": "execute_result"
    }
   ],
   "source": [
    "matches('xyre')"
   ]
  },
  {
   "cell_type": "markdown",
   "metadata": {},
   "source": [
    "Question3: Write a Python program that matches a string that has an a followed by one or more b's."
   ]
  },
  {
   "cell_type": "code",
   "execution_count": 237,
   "metadata": {},
   "outputs": [],
   "source": [
    "#Solution3:\n",
    "def matchess(text):\n",
    "    piece = 'ab+?'\n",
    "    if re.search(piece,text):\n",
    "        return (\"Match found\")\n",
    "    else:\n",
    "        return (\"Match is not found\")"
   ]
  },
  {
   "cell_type": "code",
   "execution_count": 242,
   "metadata": {},
   "outputs": [
    {
     "data": {
      "text/plain": [
       "'Match found'"
      ]
     },
     "execution_count": 242,
     "metadata": {},
     "output_type": "execute_result"
    }
   ],
   "source": [
    "matchess('weather is abbd')"
   ]
  },
  {
   "cell_type": "code",
   "execution_count": 243,
   "metadata": {},
   "outputs": [
    {
     "data": {
      "text/plain": [
       "'Match is not found'"
      ]
     },
     "execution_count": 243,
     "metadata": {},
     "output_type": "execute_result"
    }
   ],
   "source": [
    "matchess('weather is bbd')"
   ]
  },
  {
   "cell_type": "code",
   "execution_count": 223,
   "metadata": {},
   "outputs": [
    {
     "data": {
      "text/plain": [
       "'Match is not found'"
      ]
     },
     "execution_count": 223,
     "metadata": {},
     "output_type": "execute_result"
    }
   ],
   "source": [
    "matchess('weather is Good')"
   ]
  },
  {
   "cell_type": "markdown",
   "metadata": {},
   "source": [
    "Question4:Write a Python program that matches a string that has an a followed by zero or one 'b'."
   ]
  },
  {
   "cell_type": "code",
   "execution_count": 245,
   "metadata": {},
   "outputs": [],
   "source": [
    "#Solution4:\n",
    "def matchesss(text):\n",
    "    piece = 'ab?'\n",
    "    if re.search(piece,text):\n",
    "        return (\"Match found\")\n",
    "    else:\n",
    "        return (\"Match is not found\")"
   ]
  },
  {
   "cell_type": "code",
   "execution_count": 246,
   "metadata": {},
   "outputs": [
    {
     "data": {
      "text/plain": [
       "'Match found'"
      ]
     },
     "execution_count": 246,
     "metadata": {},
     "output_type": "execute_result"
    }
   ],
   "source": [
    "matchesss('weather is bad')"
   ]
  },
  {
   "cell_type": "code",
   "execution_count": 247,
   "metadata": {},
   "outputs": [
    {
     "data": {
      "text/plain": [
       "'Match found'"
      ]
     },
     "execution_count": 247,
     "metadata": {},
     "output_type": "execute_result"
    }
   ],
   "source": [
    "matchesss('weather is ad')"
   ]
  },
  {
   "cell_type": "code",
   "execution_count": 248,
   "metadata": {},
   "outputs": [
    {
     "data": {
      "text/plain": [
       "'Match found'"
      ]
     },
     "execution_count": 248,
     "metadata": {},
     "output_type": "execute_result"
    }
   ],
   "source": [
    "matchesss('weather is bd')"
   ]
  },
  {
   "cell_type": "code",
   "execution_count": 250,
   "metadata": {},
   "outputs": [
    {
     "data": {
      "text/plain": [
       "'Match found'"
      ]
     },
     "execution_count": 250,
     "metadata": {},
     "output_type": "execute_result"
    }
   ],
   "source": [
    "matchesss('weather is abbd')"
   ]
  },
  {
   "cell_type": "markdown",
   "metadata": {},
   "source": [
    "Question5: Write a Python program that matches a string that has an a followed by three 'b'."
   ]
  },
  {
   "cell_type": "code",
   "execution_count": 259,
   "metadata": {},
   "outputs": [],
   "source": [
    "#Solution5:\n",
    "def mats(text):\n",
    "    piece = 'ab{3}?'\n",
    "    if re.search(piece,text):\n",
    "        return (\"Match found\")\n",
    "    else:\n",
    "        return (\"Match is not found\")"
   ]
  },
  {
   "cell_type": "code",
   "execution_count": 260,
   "metadata": {},
   "outputs": [
    {
     "data": {
      "text/plain": [
       "'Match found'"
      ]
     },
     "execution_count": 260,
     "metadata": {},
     "output_type": "execute_result"
    }
   ],
   "source": [
    "matchesss('weather is abbcdbbbbbd')"
   ]
  },
  {
   "cell_type": "code",
   "execution_count": null,
   "metadata": {},
   "outputs": [],
   "source": []
  }
 ],
 "metadata": {
  "kernelspec": {
   "display_name": "Python 3",
   "language": "python",
   "name": "python3"
  },
  "language_info": {
   "codemirror_mode": {
    "name": "ipython",
    "version": 3
   },
   "file_extension": ".py",
   "mimetype": "text/x-python",
   "name": "python",
   "nbconvert_exporter": "python",
   "pygments_lexer": "ipython3",
   "version": "3.6.5"
  }
 },
 "nbformat": 4,
 "nbformat_minor": 2
}
