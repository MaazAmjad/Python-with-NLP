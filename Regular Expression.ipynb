{
 "cells": [
  {
   "cell_type": "markdown",
   "metadata": {},
   "source": [
    "# Regular expression"
   ]
  },
  {
   "cell_type": "markdown",
   "metadata": {},
   "source": [
    "For practice \n",
    "https://www.regexpal.com"
   ]
  },
  {
   "cell_type": "code",
   "execution_count": 39,
   "metadata": {},
   "outputs": [],
   "source": [
    "import re"
   ]
  },
  {
   "cell_type": "code",
   "execution_count": 436,
   "metadata": {},
   "outputs": [
    {
     "name": "stdout",
     "output_type": "stream",
     "text": [
      "YES! We have a match!\n"
     ]
    }
   ],
   "source": [
    "#Check if the string starts with \"Maaz\" and ends with \"Mughal\":\n",
    "A = \"Maaz Amjad ( Mughal\"\n",
    "B = re.search(\"^Maaz.*Mughal$\",A)\n",
    "if (B):\n",
    "    print(\"YES! We have a match!\")\n",
    "else:\n",
    "    print(\"No match\")"
   ]
  },
  {
   "cell_type": "code",
   "execution_count": 41,
   "metadata": {},
   "outputs": [
    {
     "name": "stdout",
     "output_type": "stream",
     "text": [
      "YES! We have a match!\n"
     ]
    }
   ],
   "source": [
    "#Check if the string starts with \"The\" and ends with \"Spain\":\n",
    "\n",
    "txt = \"The rain in Spain\"\n",
    "x = re.search(\"^The.*Spain$\", txt)\n",
    "\n",
    "if (x):\n",
    "  print(\"YES! We have a match!\")\n",
    "else:\n",
    "  print(\"No match\")"
   ]
  },
  {
   "cell_type": "code",
   "execution_count": 445,
   "metadata": {},
   "outputs": [
    {
     "name": "stdout",
     "output_type": "stream",
     "text": [
      "Great\n"
     ]
    }
   ],
   "source": [
    "smple = \"The sun is really shining and the moon sleeps\"\n",
    "if re.search(\"^The.*sleeps$\", smple):\n",
    "    print('Great')\n",
    "else:\n",
    "    print('Try agaain')"
   ]
  },
  {
   "cell_type": "code",
   "execution_count": 42,
   "metadata": {},
   "outputs": [
    {
     "data": {
      "text/plain": [
       "\"date='2/xc2/xb2',time='/case/test.png'\""
      ]
     },
     "execution_count": 42,
     "metadata": {},
     "output_type": "execute_result"
    }
   ],
   "source": [
    "# If I want to find anything in the text without regular expression\n",
    "s =u'abcde(date=\\'2/xc2/xb2\\',time=\\'/case/test.png\\')'\n",
    "\n",
    "s[s.find(\"(\")+1:s.find(\")\")]"
   ]
  },
  {
   "cell_type": "code",
   "execution_count": 459,
   "metadata": {},
   "outputs": [
    {
     "data": {
      "text/plain": [
       "'Maaz Amjad is trying to ) learn Programming'"
      ]
     },
     "execution_count": 459,
     "metadata": {},
     "output_type": "execute_result"
    }
   ],
   "source": [
    "ut = \"(Maaz Amjad is trying to ) learn Programming)\"\n",
    "rt= ut[ut.find(\"(\")+1:ut.find(\").\")]\n",
    "rt"
   ]
  },
  {
   "cell_type": "raw",
   "metadata": {},
   "source": [
    "Character\tDescription\tExample\tTry it\n",
    "\n",
    "[^a-z|0-9] -  It means everything except alphabets and numbers\n",
    "[^A-Z] - it means not capital letters\n",
    "^[a-z]- It means show only first letter of the string whatever it is from a-z\n",
    "^[A-z]- It means show only first letter of the string whatever it is from A-Z\n",
    "[^Aa] - it means neither capital A not small a\n",
    "[()] - It will show only brackets\n",
    "[A-Za-z] - it will match all alphabets\n",
    "[ !] - it will matches spaces in the text\n",
    "\n",
    "[]\tA set of characters\t\"[a-m]\"\t\n",
    "\\\tSignals a special sequence (can also be used to escape special characters)\t\"\\d\"\t\n",
    ".\tAny character (except newline character)\t\"he..o\"\t\n",
    "^\tStarts with\t\"^hello\"\t\n",
    "$\tEnds with\t\"world$\"\t\n",
    "*\tZero or more occurrences\t\"aix*\" -  see example below\t\n",
    "+\tOne or more occurrences\t\"aix+\"\t\n",
    "{}\tExactly the specified number of occurrences\t\"al{2}\"\t\n",
    "|\tEither or\t\"falls|stays\"\t\n",
    "()\tCapture and group\n",
    "?  match with or without previous word -  see example down"
   ]
  },
  {
   "cell_type": "code",
   "execution_count": 473,
   "metadata": {},
   "outputs": [
    {
     "data": {
      "text/plain": [
       "'djrfejrvjevhnvmednjv ) wmnfjcn( '"
      ]
     },
     "execution_count": 473,
     "metadata": {},
     "output_type": "execute_result"
    }
   ],
   "source": [
    "w = \"djrfejrvjevhnvmednjv ) wmnfjcn( )\"\n",
    "w[w.find(\"^[a-z]\")+1:w.find(\")*\")]"
   ]
  },
  {
   "cell_type": "code",
   "execution_count": 478,
   "metadata": {},
   "outputs": [
    {
     "data": {
      "text/plain": [
       "\"date='2/xc2/xb2',time='/case/test.png'\""
      ]
     },
     "execution_count": 478,
     "metadata": {},
     "output_type": "execute_result"
    }
   ],
   "source": [
    "t =u'abcde(date=\\'2/xc2/xb2\\',time=\\'/case/test.png\\')'\n",
    "\n",
    "re.search(r'\\((.*?)\\)',t).group(1)"
   ]
  },
  {
   "cell_type": "code",
   "execution_count": 46,
   "metadata": {},
   "outputs": [
    {
     "data": {
      "text/plain": [
       "[\"(date='2/xc2/xb2',time='/case/test.png')\"]"
      ]
     },
     "execution_count": 46,
     "metadata": {},
     "output_type": "execute_result"
    }
   ],
   "source": [
    "#If you want to find all occurences:\n",
    "re.findall('\\(.*?\\)',t)"
   ]
  },
  {
   "cell_type": "code",
   "execution_count": 487,
   "metadata": {},
   "outputs": [
    {
     "data": {
      "text/plain": [
       "'djrfejrvjevhnvmednjv ) wmnfjcn( '"
      ]
     },
     "execution_count": 487,
     "metadata": {},
     "output_type": "execute_result"
    }
   ],
   "source": [
    "w = \"djrfejrvjevhnvmednjv ) wmnfjcn( )\"\n",
    "w[w.find(\"^[a-z]\")+1:w.find(\").\")]"
   ]
  },
  {
   "cell_type": "code",
   "execution_count": 493,
   "metadata": {},
   "outputs": [],
   "source": [
    "R = \"I qwt to home the and Their told me not them. This is why it theft. Tqthe and more importantthement\""
   ]
  },
  {
   "cell_type": "code",
   "execution_count": 494,
   "metadata": {},
   "outputs": [
    {
     "data": {
      "text/plain": [
       "[' the ']"
      ]
     },
     "execution_count": 494,
     "metadata": {},
     "output_type": "execute_result"
    }
   ],
   "source": [
    "re.findall(\"[^A-z][Tt]he[^a-z]\",R)"
   ]
  },
  {
   "cell_type": "code",
   "execution_count": 495,
   "metadata": {},
   "outputs": [
    {
     "data": {
      "text/plain": [
       "['Color', ' Colour']"
      ]
     },
     "execution_count": 495,
     "metadata": {},
     "output_type": "execute_result"
    }
   ],
   "source": [
    "U = \"Color and Colour are the same color name\"\n",
    "re.findall('Color| Colou?r',U)"
   ]
  },
  {
   "cell_type": "code",
   "execution_count": 499,
   "metadata": {},
   "outputs": [
    {
     "data": {
      "text/plain": [
       "['Colour', ' Colour']"
      ]
     },
     "execution_count": 499,
     "metadata": {},
     "output_type": "execute_result"
    }
   ],
   "source": [
    "# Now set the same spellings to both words\n",
    "U = \"Color and Colour are the same names.\"\n",
    "p = re.findall('Color | Colou?r', U)\n",
    "p[0] = 'Colour'\n",
    "p"
   ]
  },
  {
   "cell_type": "code",
   "execution_count": 503,
   "metadata": {},
   "outputs": [
    {
     "data": {
      "text/plain": [
       "['hello', 'helloo', 'hell']"
      ]
     },
     "execution_count": 503,
     "metadata": {},
     "output_type": "execute_result"
    }
   ],
   "source": [
    "Q = 'hello and helloo. Both are not same Helloo,hell, hall'\n",
    "v = re.findall('hello*',Q)\n",
    "v"
   ]
  },
  {
   "cell_type": "code",
   "execution_count": 504,
   "metadata": {},
   "outputs": [
    {
     "data": {
      "text/plain": [
       "['begin', 'began', 'begun']"
      ]
     },
     "execution_count": 504,
     "metadata": {},
     "output_type": "execute_result"
    }
   ],
   "source": [
    "# It will tell you what is the word used in that place (so put . there)\n",
    "L = (\"I begin to write. He began to write. She begun to do so.\")\n",
    "s = re.findall('beg.n',L)\n",
    "s"
   ]
  },
  {
   "cell_type": "raw",
   "metadata": {},
   "source": [
    "Question: Enter a regexp that matches all the items in the first column (positive examples) but none of those in the second (negative examples). When you press \"submit\", you will see what matched.\n",
    "\n",
    "pit               pt   \n",
    "spot              Pot\n",
    "spate             peat\n",
    "slap two          part\n",
    "respite   "
   ]
  },
  {
   "cell_type": "code",
   "execution_count": 54,
   "metadata": {},
   "outputs": [],
   "source": [
    "N = \"\"\" pit               pt   \n",
    "        spot              Pot\n",
    "        spate             peat\n",
    "        slap two          part\n",
    "        respite \"\"\""
   ]
  },
  {
   "cell_type": "code",
   "execution_count": 55,
   "metadata": {},
   "outputs": [
    {
     "data": {
      "text/plain": [
       "[' pit  ',\n",
       " '        spot  ',\n",
       " '        spate ',\n",
       " '        slap two',\n",
       " '        respite ']"
      ]
     },
     "execution_count": 55,
     "metadata": {},
     "output_type": "execute_result"
    }
   ],
   "source": [
    "g = re.findall('.*p.t..',N)\n",
    "g"
   ]
  },
  {
   "cell_type": "code",
   "execution_count": 56,
   "metadata": {},
   "outputs": [
    {
     "data": {
      "text/plain": [
       "[' pt ', 'pot ', ' peat', ' part']"
      ]
     },
     "execution_count": 56,
     "metadata": {},
     "output_type": "execute_result"
    }
   ],
   "source": [
    "# Now lets show only second column\n",
    "g = re.findall('pot | pt | p..t',N)\n",
    "g"
   ]
  },
  {
   "cell_type": "raw",
   "metadata": {},
   "source": [
    "Question 2: Enter a regexp that matches all the items in the first column (positive examples) but none of those in the second (negative examples). When you press \"submit\", you will see what matched.\n",
    "    \n",
    "Positive       Negative\n",
    "rap them       aleht\n",
    "tapeth         happy them\n",
    "apth           tarpth\n",
    "wrap/try       Apt\n",
    "sap tray       peth\n",
    "87ap9th        tarreth\n",
    "apothecary     ddapdg\n",
    "               apples\n",
    "               shape the"
   ]
  },
  {
   "cell_type": "code",
   "execution_count": 57,
   "metadata": {},
   "outputs": [],
   "source": [
    "kl =\"\"\"\n",
    "    Positive       Negative\n",
    "    rap them       aleht\n",
    "    tapeth         happy them\n",
    "    apth           tarpth\n",
    "    wrap/try       Apt\n",
    "    sap tray       peth\n",
    "    87ap9th        tarreth\n",
    "    apothecary     ddapdg\n",
    "                   apples\n",
    "                   shape the \"\"\""
   ]
  },
  {
   "cell_type": "code",
   "execution_count": 58,
   "metadata": {},
   "outputs": [
    {
     "data": {
      "text/plain": [
       "['p t', 'pet', 'pt', 'pt', 'p/t', 'pt', 'p t', 'pet', 'p9t', 'pot']"
      ]
     },
     "execution_count": 58,
     "metadata": {},
     "output_type": "execute_result"
    }
   ],
   "source": [
    "ll = re.findall(\"p.?t\", kl)\n",
    "ll"
   ]
  },
  {
   "cell_type": "raw",
   "metadata": {},
   "source": [
    "Exercise 3\n",
    "Enter a regexp that matches all the items in the first column (positive examples) but none of those in the second (negative examples). When you press \"submit\", you\n",
    "will see what matched.\n",
    "Regexp:\n",
    "Positive              Negative\n",
    "affgfking             fgok\n",
    "rafgkahe              a fgk\n",
    "bafghk                affgm\n",
    "baffgkit              afffhk\n",
    "affgfking             fgok\n",
    "rafgkahe              afg.K\n",
    "bafghk                aff gm\n",
    "baffg kit             afffhgk\n"
   ]
  },
  {
   "cell_type": "raw",
   "metadata": {},
   "source": [
    "Exercise 4: Finding sentence breaks\n",
    "Finding where one sentence ends and another begins is trickier than might be imagined. Enter a regexp that matches all the items in the first column (positive\n",
    "examples) but none of those in the second (negative examples). When you press \"submit\", you will see what matched.\n",
    "Regexp:\n",
    "Positive                           Negative\n",
    "assumes word senses. Within    in the U.S.A., people often\n",
    "does the clustering. In the    John?\", he often thought, but\n",
    "but when? It was hard to tell  weighed 17.5 grams\n",
    "he arrive.\" After she had      well ... they'd better not\n",
    "mess! He did not let it        A.I. has long been a very\n",
    "it wasn't hers!' She replied   like that\", he thought\n",
    "always thought so.) Then       but W. G. Grace never had much"
   ]
  },
  {
   "cell_type": "markdown",
   "metadata": {},
   "source": [
    "https://www.w3resource.com/python-exercises/re/#EDITOR"
   ]
  },
  {
   "cell_type": "markdown",
   "metadata": {},
   "source": [
    "1. Write a Python program to check that a string contains only a certain set of characters (in this case a-z, A-Z and 0-9)"
   ]
  },
  {
   "cell_type": "code",
   "execution_count": 59,
   "metadata": {},
   "outputs": [],
   "source": [
    "import re"
   ]
  },
  {
   "cell_type": "code",
   "execution_count": 525,
   "metadata": {},
   "outputs": [],
   "source": [
    "#Solution1: \n",
    "def basic(string):\n",
    "    bs1=re.compile(r'[A-Za-z0-9.]')\n",
    "    check= bs1.search(string)\n",
    "    return bool(check)"
   ]
  },
  {
   "cell_type": "code",
   "execution_count": 526,
   "metadata": {},
   "outputs": [
    {
     "name": "stdout",
     "output_type": "stream",
     "text": [
      "True\n",
      "False\n"
     ]
    }
   ],
   "source": [
    "print(basic(\"ABCDEFabcdef123450\"))\n",
    "print(basic(\"*&%@#!}{\"))"
   ]
  },
  {
   "cell_type": "markdown",
   "metadata": {},
   "source": [
    "2. Write a Python program that matches a string that has an a followed by zero or more b's."
   ]
  },
  {
   "cell_type": "code",
   "execution_count": 529,
   "metadata": {},
   "outputs": [],
   "source": [
    "#Solution2:\n",
    "def basic2(string):\n",
    "    bas2 = \"ab*?\"\n",
    "    if re.search(bas2,string):\n",
    "        return ('Great Job')\n",
    "    else:\n",
    "        return ('Try again')"
   ]
  },
  {
   "cell_type": "code",
   "execution_count": 530,
   "metadata": {},
   "outputs": [
    {
     "name": "stdout",
     "output_type": "stream",
     "text": [
      "Great Job\n",
      "Great Job\n",
      "Great Job\n"
     ]
    }
   ],
   "source": [
    "print(basic2(\"ac\"))\n",
    "print(basic2(\"abc\"))\n",
    "print(basic2(\"abbc\"))"
   ]
  },
  {
   "cell_type": "markdown",
   "metadata": {},
   "source": [
    "Question3: Write a Python program that matches a string that has an a followed by one or more b's."
   ]
  },
  {
   "cell_type": "code",
   "execution_count": 66,
   "metadata": {},
   "outputs": [],
   "source": [
    "#Solution3:\n",
    "def matchess(text):\n",
    "    piece = 'ab+?'\n",
    "    if re.search(piece,text):\n",
    "        return (\"Match found\")\n",
    "    else:\n",
    "        return (\"Match is not found\")"
   ]
  },
  {
   "cell_type": "code",
   "execution_count": 531,
   "metadata": {},
   "outputs": [],
   "source": [
    "def basics3(string):\n",
    "    bas3 = \"ab+?\"\n",
    "    if re.search(bas3,string):\n",
    "        return('Super')\n",
    "    else:\n",
    "        return ('Try again')"
   ]
  },
  {
   "cell_type": "code",
   "execution_count": 532,
   "metadata": {},
   "outputs": [
    {
     "name": "stdout",
     "output_type": "stream",
     "text": [
      "Super\n",
      "Super\n"
     ]
    }
   ],
   "source": [
    "print(basics3(\"ab\"))\n",
    "print(basics3(\"abc\"))"
   ]
  },
  {
   "cell_type": "code",
   "execution_count": 533,
   "metadata": {},
   "outputs": [
    {
     "data": {
      "text/plain": [
       "'Super'"
      ]
     },
     "execution_count": 533,
     "metadata": {},
     "output_type": "execute_result"
    }
   ],
   "source": [
    "basics3('weather is abbd')"
   ]
  },
  {
   "cell_type": "code",
   "execution_count": 535,
   "metadata": {},
   "outputs": [
    {
     "data": {
      "text/plain": [
       "'Try again'"
      ]
     },
     "execution_count": 535,
     "metadata": {},
     "output_type": "execute_result"
    }
   ],
   "source": [
    "basics3('weather is bbd')"
   ]
  },
  {
   "cell_type": "code",
   "execution_count": 536,
   "metadata": {},
   "outputs": [
    {
     "data": {
      "text/plain": [
       "'Try again'"
      ]
     },
     "execution_count": 536,
     "metadata": {},
     "output_type": "execute_result"
    }
   ],
   "source": [
    "basics3('weather is Good')"
   ]
  },
  {
   "cell_type": "markdown",
   "metadata": {},
   "source": [
    "Question4:Write a Python program that matches a string that has an a followed by zero or one 'b'."
   ]
  },
  {
   "cell_type": "code",
   "execution_count": 537,
   "metadata": {},
   "outputs": [],
   "source": [
    "#Solution4:\n",
    "def basic4(string):\n",
    "    bas4 = \"ab?\"\n",
    "    if re.search(bas4,string):\n",
    "        return ('Awesome')\n",
    "    else:\n",
    "        return (\"Bad Practice\")"
   ]
  },
  {
   "cell_type": "code",
   "execution_count": 538,
   "metadata": {},
   "outputs": [
    {
     "name": "stdout",
     "output_type": "stream",
     "text": [
      "Awesome\n",
      "Awesome\n",
      "Awesome\n",
      "Awesome\n"
     ]
    }
   ],
   "source": [
    "print(basic4(\"ab\"))\n",
    "print(basic4(\"abc\"))\n",
    "print(basic4(\"abbc\"))\n",
    "print(basic4(\"aabbc\"))"
   ]
  },
  {
   "cell_type": "code",
   "execution_count": 540,
   "metadata": {},
   "outputs": [
    {
     "data": {
      "text/plain": [
       "'Awesome'"
      ]
     },
     "execution_count": 540,
     "metadata": {},
     "output_type": "execute_result"
    }
   ],
   "source": [
    "basic4('weather is bad')"
   ]
  },
  {
   "cell_type": "code",
   "execution_count": 539,
   "metadata": {},
   "outputs": [
    {
     "data": {
      "text/plain": [
       "'Awesome'"
      ]
     },
     "execution_count": 539,
     "metadata": {},
     "output_type": "execute_result"
    }
   ],
   "source": [
    "basic4('weather is ad')"
   ]
  },
  {
   "cell_type": "code",
   "execution_count": 541,
   "metadata": {},
   "outputs": [
    {
     "data": {
      "text/plain": [
       "'Awesome'"
      ]
     },
     "execution_count": 541,
     "metadata": {},
     "output_type": "execute_result"
    }
   ],
   "source": [
    "basic4('weather is bd')"
   ]
  },
  {
   "cell_type": "code",
   "execution_count": 542,
   "metadata": {},
   "outputs": [
    {
     "data": {
      "text/plain": [
       "'Awesome'"
      ]
     },
     "execution_count": 542,
     "metadata": {},
     "output_type": "execute_result"
    }
   ],
   "source": [
    "basic4('weather is abbd')"
   ]
  },
  {
   "cell_type": "markdown",
   "metadata": {},
   "source": [
    "Question5: Write a Python program that matches a string that has an a followed by three 'b'."
   ]
  },
  {
   "cell_type": "code",
   "execution_count": 543,
   "metadata": {},
   "outputs": [],
   "source": [
    "def basics5(string):\n",
    "    bas5 = \"ab{3}\"\n",
    "    if re.search(bas5,string):\n",
    "        return ('Amazing')\n",
    "    else:\n",
    "        return ('Sad')"
   ]
  },
  {
   "cell_type": "code",
   "execution_count": 544,
   "metadata": {},
   "outputs": [
    {
     "name": "stdout",
     "output_type": "stream",
     "text": [
      "Amazing\n",
      "Amazing\n"
     ]
    }
   ],
   "source": [
    "print(basics5(\"abbb\"))\n",
    "print(basics5(\"aabbbbbc\"))"
   ]
  },
  {
   "cell_type": "code",
   "execution_count": 545,
   "metadata": {},
   "outputs": [
    {
     "data": {
      "text/plain": [
       "'Sad'"
      ]
     },
     "execution_count": 545,
     "metadata": {},
     "output_type": "execute_result"
    }
   ],
   "source": [
    "basics5('weather is abbcdbbbbbd')"
   ]
  },
  {
   "cell_type": "markdown",
   "metadata": {},
   "source": [
    "Question6:Write a Python program that matches a string that has an a followed by two to three 'b'"
   ]
  },
  {
   "cell_type": "code",
   "execution_count": 548,
   "metadata": {},
   "outputs": [],
   "source": [
    "#Solution6:\n",
    "def basics6(string):\n",
    "    bas6 = \"ab{2,3}\"\n",
    "    if re.search(bas6,string):\n",
    "        return ('Wawooo')\n",
    "    else:\n",
    "        return (':(')"
   ]
  },
  {
   "cell_type": "code",
   "execution_count": 549,
   "metadata": {},
   "outputs": [
    {
     "name": "stdout",
     "output_type": "stream",
     "text": [
      ":(\n",
      "Wawooo\n"
     ]
    }
   ],
   "source": [
    "print(basics6(\"ab\"))\n",
    "print(basics6(\"aabbbbbc\"))"
   ]
  },
  {
   "cell_type": "code",
   "execution_count": 551,
   "metadata": {},
   "outputs": [
    {
     "data": {
      "text/plain": [
       "':('"
      ]
     },
     "execution_count": 551,
     "metadata": {},
     "output_type": "execute_result"
    }
   ],
   "source": [
    "basics6('aaabxbdsbbbbccdd')"
   ]
  },
  {
   "cell_type": "markdown",
   "metadata": {},
   "source": [
    "Question7:Write a Python program to find sequences of lowercase letters joined with a underscore. "
   ]
  },
  {
   "cell_type": "code",
   "execution_count": 556,
   "metadata": {},
   "outputs": [],
   "source": [
    "#Solution7:\n",
    "def start1(string):\n",
    "    st1= \"^[a-z]+_[a-z]\"\n",
    "    if re.search(st1,string):\n",
    "        return 'Goof Work'\n",
    "    else:\n",
    "        return \"Very bad\""
   ]
  },
  {
   "cell_type": "code",
   "execution_count": 557,
   "metadata": {},
   "outputs": [
    {
     "name": "stdout",
     "output_type": "stream",
     "text": [
      "Goof Work\n",
      "Very bad\n",
      "Very bad\n"
     ]
    }
   ],
   "source": [
    "print(start1(\"aab_cbbbc\"))\n",
    "print(start1(\"aab_Abbbc\"))\n",
    "print(start1(\"Aaab_abbbc\"))"
   ]
  },
  {
   "cell_type": "markdown",
   "metadata": {},
   "source": [
    "Question8: Write a Python program to find sequences of one upper case letter followed by lower case letters."
   ]
  },
  {
   "cell_type": "code",
   "execution_count": 560,
   "metadata": {},
   "outputs": [],
   "source": [
    "#Solution8:\n",
    "def start2(string):\n",
    "    st2 = \"^[A-Z]+_[a-z]$\"\n",
    "    if re.search(st2,string):\n",
    "        return 'Cool'\n",
    "    else:\n",
    "        return 'Sad'"
   ]
  },
  {
   "cell_type": "code",
   "execution_count": 562,
   "metadata": {},
   "outputs": [
    {
     "name": "stdout",
     "output_type": "stream",
     "text": [
      "Sad\n",
      "Sad\n",
      "Sad\n"
     ]
    }
   ],
   "source": [
    "print(start2(\"aab_cbbbc\"))\n",
    "print(start2(\"aab_Abbbc\"))\n",
    "print(start2(\"Aaab_abbbc\"))"
   ]
  },
  {
   "cell_type": "code",
   "execution_count": 563,
   "metadata": {},
   "outputs": [
    {
     "name": "stdout",
     "output_type": "stream",
     "text": [
      "Sad\n",
      "Sad\n",
      "Sad\n",
      "Sad\n",
      "Cool\n"
     ]
    }
   ],
   "source": [
    "print(start2(\"aab_cbbbc\"))\n",
    "print(start2(\"aab_aA\"))\n",
    "print(start2(\"ab_aAbbbc\"))\n",
    "print(start2(\"Aa\"))\n",
    "print(start2(\"A_a\"))"
   ]
  },
  {
   "cell_type": "markdown",
   "metadata": {},
   "source": [
    "Question9: Write a Python program that matches a string that has an 'a' followed by anything, ending in 'b'. "
   ]
  },
  {
   "cell_type": "code",
   "execution_count": 566,
   "metadata": {},
   "outputs": [],
   "source": [
    "def start3(string):\n",
    "    st3 = \"^a.*b$\"\n",
    "    if re.search(st3,string):\n",
    "        return \"Great work\"\n",
    "    else:\n",
    "        return \"Not Nice\""
   ]
  },
  {
   "cell_type": "code",
   "execution_count": 567,
   "metadata": {},
   "outputs": [
    {
     "name": "stdout",
     "output_type": "stream",
     "text": [
      "Not Nice\n",
      "Not Nice\n",
      "Great work\n"
     ]
    }
   ],
   "source": [
    "print(start3(\"aabbbbd\"))\n",
    "print(start3(\"aabAbbbc\"))\n",
    "print(start3(\"accddbbjjjb\"))"
   ]
  },
  {
   "cell_type": "markdown",
   "metadata": {},
   "source": [
    "Question10: Write a Python program that matches a word at the beginning of a string."
   ]
  },
  {
   "cell_type": "code",
   "execution_count": 570,
   "metadata": {},
   "outputs": [],
   "source": [
    "#Question10: \n",
    "def start4(string):\n",
    "    de4 = '^\\w+'\n",
    "    if re.search(de4,string):\n",
    "        return \"Matched\"\n",
    "    else:\n",
    "        return \"Not Matched\"\n",
    "    \n",
    "#if we want to see sentence start with free sace    \n",
    "# def start4(string):\n",
    "#     de4 = '^ '\n",
    "#     if re.search(de4,string):\n",
    "#         return \"Matched\"\n",
    "#     else:\n",
    "#         return \"Not Matched\""
   ]
  },
  {
   "cell_type": "code",
   "execution_count": 571,
   "metadata": {},
   "outputs": [
    {
     "name": "stdout",
     "output_type": "stream",
     "text": [
      "Matched\n",
      "Not Matched\n",
      "Matched\n"
     ]
    }
   ],
   "source": [
    "print(start4(\"The quick brown fox jumps over the lazy dog.\"))\n",
    "print(start4(\" The quick brown fox jumps over the lazy dog.\"))\n",
    "print(start4(\"1 3 2 hight quick brown fox jumps over the lazy dog.\"))"
   ]
  },
  {
   "cell_type": "markdown",
   "metadata": {},
   "source": [
    "Question11: Write a Python program that matches a word at end of string, with optional punctuation."
   ]
  },
  {
   "cell_type": "code",
   "execution_count": 589,
   "metadata": {},
   "outputs": [],
   "source": [
    "#Question11: \n",
    "def start4(string):\n",
    "    de4 = '\\w+\\S*$'\n",
    "    if re.search(de4,string):\n",
    "        return \"Matched\"\n",
    "    else:\n",
    "        return \"Not Matched\""
   ]
  },
  {
   "cell_type": "code",
   "execution_count": 590,
   "metadata": {},
   "outputs": [],
   "source": [
    "def start4(string):\n",
    "    st4 = \"\\w+\\S*$\"\n",
    "    if re.search(st4,string):\n",
    "        return \"Nice\"\n",
    "    else:\n",
    "        return \"Worse\""
   ]
  },
  {
   "cell_type": "code",
   "execution_count": 591,
   "metadata": {},
   "outputs": [
    {
     "name": "stdout",
     "output_type": "stream",
     "text": [
      "Nice\n",
      "Worse\n",
      "Nice\n",
      "Nice\n"
     ]
    }
   ],
   "source": [
    "print(start4(\"The quick brown fox jumps over the lazy dog.\"))\n",
    "print(start4(\"The quick brown fox jumps over the lazy dog. \"))\n",
    "print(start4(\"The quick brown fox jumps over the lazy dog?\"))\n",
    "print(start4(\"The quick brown fox jumps over the lazy dog!\"))"
   ]
  },
  {
   "cell_type": "markdown",
   "metadata": {},
   "source": [
    "Question12: Write a Python program that matches a word containing 'z'"
   ]
  },
  {
   "cell_type": "code",
   "execution_count": 610,
   "metadata": {},
   "outputs": [],
   "source": [
    "#Question12:\n",
    "\n",
    "def start5(string):\n",
    "    de5 = \"\\w*z\"\n",
    "    #de5 = '\\w[A-Za-z]z[A-za-z]*'\n",
    "    if re.search(de5,string):\n",
    "        return \"Matched\"\n",
    "    else:\n",
    "        return \"Not Matched\""
   ]
  },
  {
   "cell_type": "code",
   "execution_count": 611,
   "metadata": {},
   "outputs": [
    {
     "name": "stdout",
     "output_type": "stream",
     "text": [
      "Matched\n",
      "Not Matched\n"
     ]
    }
   ],
   "source": [
    "print(start5(\"The quick brown fox jumps over the lazy dog.\"))\n",
    "print(start5(\"Python Exercises.\"))"
   ]
  },
  {
   "cell_type": "markdown",
   "metadata": {},
   "source": [
    "Question13: Write a Python program that matches a word containing 'z', not start or end of the word."
   ]
  },
  {
   "cell_type": "code",
   "execution_count": 612,
   "metadata": {},
   "outputs": [],
   "source": [
    "#Question13:\n",
    "\n",
    "def start6(string):\n",
    "    de6=\"\\Bz\\B\"\n",
    "    if re.search(de6,string):\n",
    "        return \"Matched\"\n",
    "    else:\n",
    "        return \"Not Matched\""
   ]
  },
  {
   "cell_type": "code",
   "execution_count": 613,
   "metadata": {},
   "outputs": [
    {
     "name": "stdout",
     "output_type": "stream",
     "text": [
      "Matched\n",
      "Not Matched\n"
     ]
    }
   ],
   "source": [
    "print(start6(\"The quick brown fox jumps over the lazy dog.\"))\n",
    "print(start6(\"Python Exercises.\"))"
   ]
  },
  {
   "cell_type": "markdown",
   "metadata": {},
   "source": [
    "Question14:  Write a Python program to match a string that contains only upper and lowercase letters, numbers, and underscores. \n"
   ]
  },
  {
   "cell_type": "code",
   "execution_count": 614,
   "metadata": {},
   "outputs": [],
   "source": [
    "#Question14:\n",
    "def start7(string):\n",
    "    de7 = '^[a-zA-Z0-9_]*'\n",
    "    if re.search(de7,string):\n",
    "        return \"Matched\"\n",
    "    else:\n",
    "        return \"Not Matched\"\n"
   ]
  },
  {
   "cell_type": "code",
   "execution_count": 615,
   "metadata": {},
   "outputs": [
    {
     "name": "stdout",
     "output_type": "stream",
     "text": [
      "Matched\n",
      "Matched\n"
     ]
    }
   ],
   "source": [
    "#Question14:\n",
    "print(start7(\"The quick brown fox jumps over the lazy dog.\"))\n",
    "print(start7(\"Python_Exercises_1\"))\n"
   ]
  },
  {
   "cell_type": "markdown",
   "metadata": {},
   "source": [
    "Question15: Write a Python program where a string will start with a specific number. "
   ]
  },
  {
   "cell_type": "code",
   "execution_count": 616,
   "metadata": {},
   "outputs": [],
   "source": [
    "#Question15:\n",
    "def start8(string):\n",
    "    de8 = re.compile(\"5\")\n",
    "    if de8.match(string):\n",
    "        return True\n",
    "    else:\n",
    "        return False"
   ]
  },
  {
   "cell_type": "code",
   "execution_count": 617,
   "metadata": {},
   "outputs": [
    {
     "name": "stdout",
     "output_type": "stream",
     "text": [
      "True\n",
      "False\n"
     ]
    }
   ],
   "source": [
    "#Question15:\n",
    "print(start8('5-2345861'))\n",
    "print(start8('6-2345861'))"
   ]
  },
  {
   "cell_type": "markdown",
   "metadata": {},
   "source": [
    "Question16:  Write a Python program to remove leading zeros from an IP address. "
   ]
  },
  {
   "cell_type": "code",
   "execution_count": 621,
   "metadata": {},
   "outputs": [
    {
     "name": "stdout",
     "output_type": "stream",
     "text": [
      "216.8.94.196\n",
      "216 8 94 196\n"
     ]
    }
   ],
   "source": [
    "#Question16:\n",
    "ip = \"216.08.094.196\"\n",
    "string = re.sub('\\.[0]*', '.', ip)\n",
    "string1 = re.sub('\\.[0]*', ' ', ip)\n",
    "print(string)\n",
    "print(string1)"
   ]
  },
  {
   "cell_type": "code",
   "execution_count": 622,
   "metadata": {},
   "outputs": [
    {
     "name": "stdout",
     "output_type": "stream",
     "text": [
      "2019 5 11\n"
     ]
    }
   ],
   "source": [
    "ip = \"2019 05 11\"\n",
    "string = re.sub('\\s[0]*', ' ', ip)\n",
    "print(string)"
   ]
  },
  {
   "cell_type": "markdown",
   "metadata": {},
   "source": [
    "Question17:  Write a Python program to check for a number at the end of a string. "
   ]
  },
  {
   "cell_type": "code",
   "execution_count": 647,
   "metadata": {},
   "outputs": [],
   "source": [
    "#Question17:\n",
    "def start9(string):\n",
    "    st9=re.compile('.*[0-9]$')\n",
    "    if st9.match(string):\n",
    "        return True\n",
    "    else:\n",
    "        return False"
   ]
  },
  {
   "cell_type": "code",
   "execution_count": 648,
   "metadata": {},
   "outputs": [
    {
     "name": "stdout",
     "output_type": "stream",
     "text": [
      "False\n",
      "True\n"
     ]
    }
   ],
   "source": [
    "print(start9('abcdef'))\n",
    "print(start9('abcdef6'))"
   ]
  },
  {
   "cell_type": "markdown",
   "metadata": {},
   "source": [
    "Question18:  Write a Python program to search the numbers (0-9) of length between 1 to 3 in a given string."
   ]
  },
  {
   "cell_type": "code",
   "execution_count": 656,
   "metadata": {},
   "outputs": [
    {
     "name": "stdout",
     "output_type": "stream",
     "text": [
      "Number of length 1 to 3\n",
      "1\n",
      "12\n",
      "13\n",
      "345\n"
     ]
    }
   ],
   "source": [
    "#Question18:\n",
    "de10 = re.finditer(\"[0-9]{1,3}\", \"Exercises number 1, 12, 13, and 345 are important\")\n",
    "print(\"Number of length 1 to 3\")\n",
    "for n in de10:\n",
    "    print(n.group(0))"
   ]
  },
  {
   "cell_type": "code",
   "execution_count": 660,
   "metadata": {},
   "outputs": [
    {
     "name": "stdout",
     "output_type": "stream",
     "text": [
      "Number of length 1 to 3\n",
      "['1', '1656565652', '13', '6565650.576767676764', '345']\n"
     ]
    }
   ],
   "source": [
    "#Question18:\n",
    "val = []\n",
    "de10 = re.finditer(\"[0-9]+\\.*[0-9]*\", \"Exercises number 1, 1656565652, 13, 6565650.576767676764 and 345 are important\")\n",
    "print(\"Number of length 1 to 3\")\n",
    "for n in de10:\n",
    "     val.append(n.group(0))\n",
    "print(val)"
   ]
  },
  {
   "cell_type": "code",
   "execution_count": 661,
   "metadata": {},
   "outputs": [
    {
     "name": "stdout",
     "output_type": "stream",
     "text": [
      "Good Job\n"
     ]
    }
   ],
   "source": [
    "#Omar gave me this exercise\n",
    "omar =[]\n",
    "tests = \" cdbscbawd asd hdjchwdj cvah ( scjwdvaejn ( djvjcd ()))\"\n",
    "for n in tests:\n",
    "    if n==\"(\":\n",
    "        omar.append(n)\n",
    "    elif n == \")\":\n",
    "        omar.pop()\n",
    "\n",
    "if len(omar)==0:\n",
    "    print('Good Job')"
   ]
  },
  {
   "cell_type": "markdown",
   "metadata": {},
   "source": [
    "Question19: Write a Python program to search some literals strings in a string. Go to the editor\n",
    "Sample text : 'The quick brown fox jumps over the lazy dog.'\n",
    "Searched words : 'fox', 'dog', 'horse'"
   ]
  },
  {
   "cell_type": "code",
   "execution_count": 681,
   "metadata": {},
   "outputs": [
    {
     "name": "stdout",
     "output_type": "stream",
     "text": [
      " Searching for 'fox' in 'The quick brown fox jumps over the lazy dog.' ->\n",
      "found\n",
      " Searching for 'dog' in 'The quick brown fox jumps over the lazy dog.' ->\n",
      "found\n",
      " Searching for 'horse' in 'The quick brown fox jumps over the lazy dog.' ->\n",
      "not found\n"
     ]
    }
   ],
   "source": [
    "patterns = [ 'fox', 'dog', 'horse' ]\n",
    "text = 'The quick brown fox jumps over the lazy dog.'\n",
    "for w in patterns:\n",
    "    print(\" Searching for '%s' in '%s' ->\"  % (w,text))\n",
    "    if re.search(w,text):\n",
    "       print('found')\n",
    "    else:\n",
    "        print('not found')"
   ]
  },
  {
   "cell_type": "markdown",
   "metadata": {},
   "source": [
    "Question20: Write a Python program to search a literals string in a string and also find the location within the original string where the pattern occurs."
   ]
  },
  {
   "cell_type": "code",
   "execution_count": 695,
   "metadata": {},
   "outputs": [
    {
     "name": "stdout",
     "output_type": "stream",
     "text": [
      "Found \"fox\" in \"The quick brown fox jumps over the lazy dog.\" from 16 to 19 \n"
     ]
    }
   ],
   "source": [
    "#Question20:\n",
    "pattern = 'fox'\n",
    "text = 'The quick brown fox jumps over the lazy dog.'\n",
    "match = re.search(pattern, text)\n",
    "s = match.start()\n",
    "e = match.end()\n",
    "print('Found \"%s\" in \"%s\" from %d to %d ' % \\\n",
    "    (match.re.pattern, match.string, s, e))"
   ]
  },
  {
   "cell_type": "code",
   "execution_count": 678,
   "metadata": {},
   "outputs": [
    {
     "name": "stdout",
     "output_type": "stream",
     "text": [
      "We are sorry\n"
     ]
    }
   ],
   "source": [
    "word = 'Maz'\n",
    "sam = 'My name is Maaz Amjad'\n",
    "if re.search(word,sam):\n",
    "    print('Searching \"%s\" in \"%s\" ->' % (word,sam))\n",
    "    print('Found')\n",
    "else:\n",
    "    print(\"We are sorry\")"
   ]
  },
  {
   "cell_type": "code",
   "execution_count": null,
   "metadata": {},
   "outputs": [],
   "source": []
  }
 ],
 "metadata": {
  "kernelspec": {
   "display_name": "Python 3",
   "language": "python",
   "name": "python3"
  },
  "language_info": {
   "codemirror_mode": {
    "name": "ipython",
    "version": 3
   },
   "file_extension": ".py",
   "mimetype": "text/x-python",
   "name": "python",
   "nbconvert_exporter": "python",
   "pygments_lexer": "ipython3",
   "version": "3.6.5"
  }
 },
 "nbformat": 4,
 "nbformat_minor": 2
}
